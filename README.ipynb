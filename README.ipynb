{
 "cells": [
  {
   "cell_type": "markdown",
   "metadata": {},
   "source": [
    "# __pands-weekly-tasks__\n",
    "## __Programming and Scripting Weekly Tasks__"
   ]
  },
  {
   "cell_type": "markdown",
   "metadata": {},
   "source": [
    "### Weekly task 01 resources:\n",
    "weekly lectures"
   ]
  },
  {
   "cell_type": "markdown",
   "metadata": {},
   "source": [
    "### Weekly task 02 resources:\n",
    "weekly lectures ; [Link 1](https://www.w3schools.com/python/python_howto_add_two_numbers.asp)"
   ]
  },
  {
   "cell_type": "markdown",
   "metadata": {},
   "source": [
    "### Weekly task 03 resources:\n",
    "weekly lectures ; [Link 1](https://stackoverflow.com/questions/9730653/is-there-a-better-way-to-mask-a-credit-card-number-in-python) ; [Link 2](https://realpython.com/len-python-function/#:~:text=The%20function%20len()%20is,with%20many%20different%20data%20types)"
   ]
  },
  {
   "cell_type": "markdown",
   "metadata": {},
   "source": [
    "### Weekly task 04 resources:\n",
    "weekly lectures ; [Link 1](https://www.youtube.com/watch?v=6iF8Xb7Z3wQ) ; [Link 2](https://www.youtube.com/watch?v=DZwmZ8Usvnk)"
   ]
  },
  {
   "cell_type": "markdown",
   "metadata": {},
   "source": [
    "### Weekly task 05 resources:\n",
    "weekly lectures ; [Link 1](https://docs.python.org/3/library/datetime.html#datetime.date.weekday) ; [Link 2](https://www.shecodes.io/athena/10185-how-to-check-what-day-of-the-week-it-is-in-python#:~:text=date%20using%20datetime.-,datetime.,)"
   ]
  },
  {
   "cell_type": "markdown",
   "metadata": {},
   "source": [
    "### Weekly task 06 resources:\n",
    "weekly lectures ; [Link 1](https://www.geeksforgeeks.org/find-root-of-a-number-using-newtons-method/) ; [Link 2](https://runestone.academy/ns/books/published/thinkcspy/MoreAboutIteration/NewtonsMethod.html) ; [Link 3](https://www.toppr.com/guides/python-guide/examples/python-examples/functions/power-anonymous/python-program-display-powers-2-using-anonymous-function/#:~:text=Note%20that%20the%20operator%20that,powers%20of%20two%20as%20well) ; [Link 4](https://stackoverflow.com/questions/25254868/how-can-i-stop-printing-a-float-3-spaces-after-decimal) ; [Link 5](https://en.wikipedia.org/wiki/Newton%27s_method)"
   ]
  },
  {
   "cell_type": "markdown",
   "metadata": {},
   "source": [
    "### Weekly task 07 resources:\n",
    "weekly lectures ; [Link 1](https://docs.python.org/3/library/argparse.html) ; [Link 2](https://docs.python.org/3/tutorial/inputoutput.html#reading-and-writing-files) ; [Link 3](https://docs.python.org/3/library/stdtypes.html#string-methods)"
   ]
  },
  {
   "cell_type": "markdown",
   "metadata": {},
   "source": [
    "### Weekly task 08 resources:\n",
    "weekly lectures ; [Link 1](https://www.w3schools.com/python/matplotlib_histograms.asp) ; [Link 2](https://www.w3schools.com/python/matplotlib_plotting.asp) ; [Link 3](https://www.w3schools.com/python/numpy/numpy_random_normal.asp) ; [Link 4](https://www.w3schools.com/python/numpy/numpy_creating_arrays.asp)"
   ]
  }
 ],
 "metadata": {
  "language_info": {
   "name": "python"
  }
 },
 "nbformat": 4,
 "nbformat_minor": 2
}
