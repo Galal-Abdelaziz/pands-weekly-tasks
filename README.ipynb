{
 "cells": [
  {
   "cell_type": "markdown",
   "metadata": {},
   "source": [
    "# Pands-Weekly-Tasks\n",
    "***\n",
    "Author: Galal Abdelaziz\n",
    "\n",
    "Pands weekly tasks are part of the __Programming and Scripting__ module in Summer 2023/2024, at [ATU](https://www.atu.ie/).\n",
    "\n",
    "***"
   ]
  },
  {
   "cell_type": "markdown",
   "metadata": {},
   "source": [
    "## Technologies:\n",
    "\n",
    "* Python 3.11.5 available [here](https://www.anaconda.com/download)\n",
    "* Visual Studio Code available [here](https://code.visualstudio.com/)\n",
    "\n",
    "***"
   ]
  },
  {
   "cell_type": "markdown",
   "metadata": {},
   "source": [
    "## Tasks:"
   ]
  },
  {
   "cell_type": "markdown",
   "metadata": {},
   "source": [
    "### __Weekly task 01:__    \n",
    "\n",
    "* Name: hello.py\n",
    "\n",
    "* Description: Create a python program that displays Hello World! when it is run.\n",
    "\n",
    "* Terminal Demo Run:\n",
    "\n",
    "![Task 1](img/Task1.png)\n",
    "\n",
    "* Resources: weekly lectures\n",
    "\n",
    "***"
   ]
  },
  {
   "cell_type": "markdown",
   "metadata": {},
   "source": [
    "### __Weekly task 02:__\n",
    "\n",
    "* Name: bank.py\n",
    "\n",
    "* Description: This program is to sum two amounts(in Cents) entered by the user, and print out the result in Euros.\n",
    "\n",
    "* Terminal Demo Run:\n",
    "\n",
    "![Task 2](img/Task2.png)\n",
    "\n",
    "* Resources: weekly lectures ; [Link 1](https://www.w3schools.com/python/python_howto_add_two_numbers.asp)\n",
    "\n",
    "***"
   ]
  },
  {
   "cell_type": "markdown",
   "metadata": {},
   "source": [
    "### __Weekly task 03:__\n",
    "\n",
    "* Name: accounts.py\n",
    "\n",
    "* Description: This program reads a 10 digits account number and outputs the account number with only the last 4 digits showing.\n",
    "\n",
    "* Terminal Demo Run:\n",
    "\n",
    "![Task 3](img/Task3.png)\n",
    "\n",
    "* Resources: weekly lectures ; [Link 1](https://stackoverflow.com/questions/9730653/is-there-a-better-way-to-mask-a-credit-card-number-in-python) ; [Link 2](https://realpython.com/len-python-function/#:~:text=The%20function%20len()%20is,with%20many%20different%20data%20types)\n",
    "\n",
    "***"
   ]
  },
  {
   "cell_type": "markdown",
   "metadata": {},
   "source": [
    "### __Weekly task 04:__\n",
    "\n",
    "* Name: collatz.py\n",
    "\n",
    "* Description: This program asks the user to input any positive integer and outputs the successive values of the Collatz conjecture.\n",
    "\n",
    "* Terminal Demo Run:\n",
    "\n",
    "![Task 4](img/Task4.png)\n",
    "\n",
    "* Resources: weekly lectures ; [Link 1](https://www.youtube.com/watch?v=6iF8Xb7Z3wQ) ; [Link 2](https://www.youtube.com/watch?v=DZwmZ8Usvnk)\n",
    "\n",
    "***"
   ]
  },
  {
   "cell_type": "markdown",
   "metadata": {},
   "source": [
    "### __Weekly task 05:__\n",
    "\n",
    "* Name: weekday.py\n",
    "\n",
    "* Description: This program outputs whether or not today is a weekday.\n",
    "\n",
    "* Terminal Demo Run:\n",
    "\n",
    "![Task 5](img/Task5.png)\n",
    "\n",
    "* Resources: weekly lectures ; [Link 1](https://docs.python.org/3/library/datetime.html#datetime.date.weekday) ; [Link 2](https://www.shecodes.io/athena/10185-how-to-check-what-day-of-the-week-it-is-in-python#:~:text=date%20using%20datetime.-,datetime.,)\n",
    "\n",
    "***"
   ]
  },
  {
   "cell_type": "markdown",
   "metadata": {},
   "source": [
    "### __Weekly task 06:__\n",
    "\n",
    "* Name: squareroot.py\n",
    "\n",
    "* Description: This program takes a positive floating-point number as input and outputs an approximation of its square root using Newton's method.\n",
    "\n",
    "* Terminal Demo Run:\n",
    "\n",
    "![Task 6](img/Task6.png)\n",
    "\n",
    "* Resources: weekly lectures ; [Link 1](https://www.geeksforgeeks.org/find-root-of-a-number-using-newtons-method/) ; [Link 2](https://runestone.academy/ns/books/published/thinkcspy/MoreAboutIteration/NewtonsMethod.html) ; [Link 3](https://www.toppr.com/guides/python-guide/examples/python-examples/functions/power-anonymous/python-program-display-powers-2-using-anonymous-function/#:~:text=Note%20that%20the%20operator%20that,powers%20of%20two%20as%20well) ; [Link 4](https://stackoverflow.com/questions/25254868/how-can-i-stop-printing-a-float-3-spaces-after-decimal) ; [Link 5](https://en.wikipedia.org/wiki/Newton%27s_method)\n",
    "\n",
    "***"
   ]
  },
  {
   "cell_type": "markdown",
   "metadata": {},
   "source": [
    "### __Weekly task 07:__\n",
    "\n",
    "* Name: es.py\n",
    "\n",
    "* Extra (test file): moby-dick.txt \n",
    "\n",
    "* Description: This program reads in a text file from an argument on the command line and outputs the number of e's it contains.\n",
    "\n",
    "* Terminal Demo Run:\n",
    "\n",
    "![Task 7](img/Task7.png)\n",
    "\n",
    "* Resources: weekly lectures ; [Link 1](https://docs.python.org/3/library/argparse.html) ; [Link 2](https://docs.python.org/3/tutorial/inputoutput.html#reading-and-writing-files) ; [Link 3](https://docs.python.org/3/library/stdtypes.html#string-methods) ; [Link 4](https://docs.python.org/3/library/os.path.html) ; [Link 5](https://realpython.com/python-main-function/)\n",
    "\n",
    "***"
   ]
  },
  {
   "cell_type": "markdown",
   "metadata": {},
   "source": [
    "### __Weekly task 08:__\n",
    "\n",
    "* Name: plottask.py\n",
    "\n",
    "* Description: This code generates a histogram of a normal distribution with a mean of 5 and a standard deviation of 2, and plots the function h(x) = x^3 in the range [0, 10] on the same set of axes.\n",
    "\n",
    "* Terminal Demo Run:\n",
    "\n",
    "![Task 8](img/Task8.png)\n",
    "\n",
    "* Resources: weekly lectures ; [Link 1](https://www.w3schools.com/python/matplotlib_histograms.asp) ; [Link 2](https://www.w3schools.com/python/matplotlib_plotting.asp) ; [Link 3](https://www.w3schools.com/python/numpy/numpy_random_normal.asp) ; [Link 4](https://www.w3schools.com/python/numpy/numpy_creating_arrays.asp)\n",
    "\n",
    "***"
   ]
  },
  {
   "cell_type": "markdown",
   "metadata": {},
   "source": [
    "## Notes:\n",
    "\n",
    "* Throughout the course, tasks underwent several revisions to enhance and refine the code.\n",
    "* The creation of all tasks involved integrating information from various resources and weekly lectures.\n",
    "* As per instructions, extensive comments were added, providing explanations for nearly each line of code.\n",
    "* The final major update to all tasks included the implementation of error handling, while preserving the original code as comments for reference.\n",
    "    * Error handling resources: [Link 1](https://docs.python.org/3/tutorial/errors.html) ; [Link 2](https://docs.python.org/3/tutorial/errors.html#handling-exceptions) ; [Link 3](https://stackoverflow.com/questions/4592162/python-exception-handling) ; [Link 4](https://realpython.com/python-exceptions/)"
   ]
  },
  {
   "cell_type": "markdown",
   "metadata": {},
   "source": [
    "***\n",
    "## End"
   ]
  }
 ],
 "metadata": {
  "language_info": {
   "name": "python"
  }
 },
 "nbformat": 4,
 "nbformat_minor": 2
}
